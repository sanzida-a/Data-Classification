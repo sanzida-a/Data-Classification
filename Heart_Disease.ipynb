{
  "nbformat": 4,
  "nbformat_minor": 0,
  "metadata": {
    "colab": {
      "name": "Heart Disease.ipynb",
      "provenance": []
    },
    "kernelspec": {
      "name": "python3",
      "display_name": "Python 3"
    },
    "language_info": {
      "name": "python"
    }
  },
  "cells": [
    {
      "cell_type": "code",
      "execution_count": null,
      "metadata": {
        "id": "zaAGHx8Kjnih"
      },
      "outputs": [],
      "source": [
        "import numpy as np\n",
        "import matplotlib.pyplot as plt\n",
        "import pandas as pd"
      ]
    },
    {
      "cell_type": "code",
      "source": [
        "data = pd.read_csv('HealthData.csv')\n",
        "X = data.iloc[:,:-1].values\n",
        "y = data.iloc[:, 13].values"
      ],
      "metadata": {
        "id": "_E19cwRIjo4A"
      },
      "execution_count": null,
      "outputs": []
    },
    {
      "cell_type": "code",
      "source": [
        "from sklearn.impute import SimpleImputer\n",
        "\n",
        "imputer=SimpleImputer(strategy='mean')\n",
        "imputer=imputer.fit(X[:,11:13])\n",
        "X[:,11:13]=imputer.transform(X[:,11:13])\n",
        "X"
      ],
      "metadata": {
        "colab": {
          "base_uri": "https://localhost:8080/"
        },
        "id": "GnBl89LelETw",
        "outputId": "c23d2026-ddaa-4491-c97a-e081d02250db"
      },
      "execution_count": null,
      "outputs": [
        {
          "output_type": "execute_result",
          "data": {
            "text/plain": [
              "array([[63.       ,  1.       ,  1.       , ...,  3.       ,  0.       ,\n",
              "         6.       ],\n",
              "       [67.       ,  1.       ,  4.       , ...,  2.       ,  3.       ,\n",
              "         3.       ],\n",
              "       [67.       ,  1.       ,  4.       , ...,  2.       ,  2.       ,\n",
              "         7.       ],\n",
              "       ...,\n",
              "       [57.       ,  1.       ,  4.       , ...,  2.       ,  1.       ,\n",
              "         7.       ],\n",
              "       [57.       ,  0.       ,  2.       , ...,  2.       ,  1.       ,\n",
              "         3.       ],\n",
              "       [38.       ,  1.       ,  3.       , ...,  1.       ,  0.6722408,\n",
              "         3.       ]])"
            ]
          },
          "metadata": {},
          "execution_count": 10
        }
      ]
    },
    {
      "cell_type": "code",
      "source": [
        "from sklearn.model_selection import train_test_split\n",
        "X_train, X_test, y_train, y_test = train_test_split(X, y, test_size = 0.15, random_state = 0)"
      ],
      "metadata": {
        "id": "dvK6vOf5lEZC"
      },
      "execution_count": null,
      "outputs": []
    },
    {
      "cell_type": "code",
      "source": [
        "from sklearn.preprocessing import StandardScaler\n",
        "sc = StandardScaler()\n",
        "X_train = sc.fit_transform(X_train)\n",
        "X_test = sc.transform(X_test)"
      ],
      "metadata": {
        "id": "zNF-snJHlEdy"
      },
      "execution_count": null,
      "outputs": []
    },
    {
      "cell_type": "code",
      "source": [
        "import seaborn as sn\n",
        "sn.countplot(x='num',data=dataset)\n",
        "dataset.num.value_counts()"
      ],
      "metadata": {
        "colab": {
          "base_uri": "https://localhost:8080/",
          "height": 331
        },
        "id": "LCCqat8mmr0A",
        "outputId": "5dd5eddb-0351-4e93-89a7-70f591c2d66d"
      },
      "execution_count": null,
      "outputs": [
        {
          "output_type": "execute_result",
          "data": {
            "text/plain": [
              "0    164\n",
              "1    139\n",
              "Name: num, dtype: int64"
            ]
          },
          "metadata": {},
          "execution_count": 14
        },
        {
          "output_type": "display_data",
          "data": {
            "image/png": "[encoded data removed]",
            "text/plain": [
              "<Figure size 432x288 with 1 Axes>"
            ]
          },
          "metadata": {
            "needs_background": "light"
          }
        }
      ]
    },
    {
      "cell_type": "code",
      "source": [
        "from sklearn.tree import DecisionTreeClassifier\n",
        "clf = DecisionTreeClassifier(criterion = 'entropy', random_state = 0)\n",
        "clf.fit(X_train, y_train)\n",
        "y_pred = clf.predict(X_test)"
      ],
      "metadata": {
        "id": "ySVieKcamsYQ"
      },
      "execution_count": null,
      "outputs": []
    },
    {
      "cell_type": "code",
      "source": [
        "from sklearn.metrics import accuracy_score\n",
        "accuracy_score(y_test,y_pred)"
      ],
      "metadata": {
        "colab": {
          "base_uri": "https://localhost:8080/"
        },
        "id": "hRnMzmKdmsbN",
        "outputId": "89b7e7ba-5940-4daa-c76f-23850bf81a08"
      },
      "execution_count": null,
      "outputs": [
        {
          "output_type": "execute_result",
          "data": {
            "text/plain": [
              "0.8043478260869565"
            ]
          },
          "metadata": {},
          "execution_count": 27
        }
      ]
    },
    {
      "cell_type": "code",
      "source": [
        "from sklearn.metrics import classification_report\n",
        "print(classification_report(y_test, y_pred))"
      ],
      "metadata": {
        "colab": {
          "base_uri": "https://localhost:8080/"
        },
        "id": "X8xP6xwYmslz",
        "outputId": "1e78cb71-8951-4603-d670-d00fe6e1dd4a"
      },
      "execution_count": null,
      "outputs": [
        {
          "output_type": "stream",
          "name": "stdout",
          "text": [
            "              precision    recall  f1-score   support\n",
            "\n",
            "           0       0.81      0.85      0.83        26\n",
            "           1       0.79      0.75      0.77        20\n",
            "\n",
            "    accuracy                           0.80        46\n",
            "   macro avg       0.80      0.80      0.80        46\n",
            "weighted avg       0.80      0.80      0.80        46\n",
            "\n"
          ]
        }
      ]
    }
  ]
}